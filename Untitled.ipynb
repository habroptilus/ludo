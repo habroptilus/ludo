{
 "cells": [
  {
   "cell_type": "code",
   "execution_count": 173,
   "metadata": {},
   "outputs": [],
   "source": [
    "from collections import namedtuple\n",
    "\n",
    "\n",
    "class Position:\n",
    "    def __init__(self,coordinate, player):\n",
    "        self.coordinate=coordinate\n",
    "        self.player= player\n",
    "    \n",
    "    def __repr__(self):\n",
    "        return f\"{self.player}@{self.coordinate}\"\n",
    "        \n",
    "class Board:\n",
    "    def __init__(self,n_pieces,n_players,len_myway):\n",
    "        self.starts=[n_pieces for _ in range(n_players)]\n",
    "        self.positions=[]\n",
    "        self.goals=[[] for _ in range(n_players)]\n",
    "        self.len_myway = len_myway\n",
    "        self.len_total = len_myway*n_players\n",
    "        self.n_pieces=n_pieces\n",
    "    \n",
    "    def print(self):\n",
    "        print(self.starts)\n",
    "        print(self.positions)\n",
    "        print(self.goals)\n",
    "    \n",
    "        \n",
    "    def depart(self,player):\n",
    "        self.starts[player]-=1\n",
    "        self.positions.append(self.create(player,0))\n",
    "    \n",
    "    def respawn(self, position):\n",
    "        self.positions.remove(position)\n",
    "        self.starts[position.player]+=1\n",
    "        \n",
    "        \n",
    "    def create(self,player,step):\n",
    "        return Position(self.len_myway * player+step,player)\n",
    "    \n",
    "    def move(self, coordinate,step):\n",
    "        searched_pos_list = self.search_by_coordinate(coordinate)\n",
    "        if not searched_pos_list:\n",
    "            raise Exception(f\"Specified coordinate {coordinate} does not exist.\")\n",
    "            \n",
    "        position = searched_pos_list[0]\n",
    "        temp_coordinate=position.coordinate+step\n",
    "        goal_coordinate = position.player*self.len_myway\n",
    "        goal_coordinate = goal_coordinate if goal_coordinate>0 else self.len_total\n",
    "        \n",
    "        if position.coordinate < goal_coordinate <= temp_coordinate:\n",
    "            # ゴールゾーンにはいる\n",
    "            self.goals[position.player].append(min(temp_coordinate-goal_coordinate,self.n_pieces-1))\n",
    "        else:\n",
    "            # publicゾーンを移動\n",
    "            new_coordinate=temp_coordinate%self.len_total\n",
    "            result = self.search_by_coordinate(new_coordinate)\n",
    "            if result and result[0].player!=position.player:\n",
    "                # 衝突\n",
    "                for opponent in result:\n",
    "                    self.respawn(opponent)\n",
    "            \n",
    "            new_position = Position(new_coordinate,position.player)\n",
    "            self.positions.append(new_position)\n",
    "            \n",
    "        # 前のを削除\n",
    "        self.positions.remove(position)\n",
    "    \n",
    "    \n",
    "    def search_by_coordinate(self, coordinate):\n",
    "        result=[]\n",
    "        for position in self.positions:\n",
    "            if position.coordinate==coordinate:\n",
    "                result.append(position)\n",
    "        return result\n",
    "    \n",
    "    def search_by_player(self,player):\n",
    "        return [position for position in self.positions if position.player==player]\n",
    "        \n",
    "    def move_piece_in_goal(self,position,player,roll):\n",
    "        if position not in self.goals[player]:\n",
    "            raise Exception(f\"{position} does not exist in Player {player}'s goal.\")\n",
    "        self.goals[player].remove(position)\n",
    "        self.goals[player].append(min(position,self.n_pieces-1))\n",
    "            "
   ]
  },
  {
   "cell_type": "code",
   "execution_count": 215,
   "metadata": {},
   "outputs": [],
   "source": [
    "board=Board(n_pieces=4,n_players=4,len_myway=10)"
   ]
  },
  {
   "cell_type": "code",
   "execution_count": null,
   "metadata": {},
   "outputs": [],
   "source": []
  },
  {
   "cell_type": "code",
   "execution_count": 216,
   "metadata": {},
   "outputs": [
    {
     "name": "stdout",
     "output_type": "stream",
     "text": [
      "[4, 4, 4, 4]\n",
      "[]\n",
      "[[], [], [], []]\n",
      "[3, 4, 4, 4]\n",
      "[0@0]\n",
      "[[], [], [], []]\n",
      "[3, 4, 4, 3]\n",
      "[0@0, 3@30]\n",
      "[[], [], [], []]\n",
      "[4, 4, 4, 3]\n",
      "[3@0]\n",
      "[[], [], [], []]\n"
     ]
    }
   ],
   "source": [
    "board.print()\n",
    "board.depart(0)\n",
    "board.print()\n",
    "board.depart(3)\n",
    "board.print()\n",
    "board.move(coordinate=30,step=10)\n",
    "board.print()"
   ]
  },
  {
   "cell_type": "code",
   "execution_count": 209,
   "metadata": {},
   "outputs": [],
   "source": [
    "board.move(coordinate=39,step=1)"
   ]
  },
  {
   "cell_type": "code",
   "execution_count": 89,
   "metadata": {},
   "outputs": [
    {
     "data": {
      "text/plain": [
       "False"
      ]
     },
     "execution_count": 89,
     "metadata": {},
     "output_type": "execute_result"
    }
   ],
   "source": [
    "p=Position(13,0)\n",
    "q=Position(1,0)\n",
    "p==q"
   ]
  }
 ],
 "metadata": {
  "kernelspec": {
   "display_name": "Python 3",
   "language": "python",
   "name": "python3"
  },
  "language_info": {
   "codemirror_mode": {
    "name": "ipython",
    "version": 3
   },
   "file_extension": ".py",
   "mimetype": "text/x-python",
   "name": "python",
   "nbconvert_exporter": "python",
   "pygments_lexer": "ipython3",
   "version": "3.6.2"
  }
 },
 "nbformat": 4,
 "nbformat_minor": 2
}
